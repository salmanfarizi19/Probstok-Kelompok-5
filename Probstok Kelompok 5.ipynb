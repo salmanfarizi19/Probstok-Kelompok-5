{
 "cells": [
  {
   "cell_type": "code",
   "execution_count": 17,
   "metadata": {},
   "outputs": [],
   "source": [
    "import numpy as np \n",
    "from sklearn.linear_model import LinearRegression\n",
    "from sklearn.svm import SVR\n",
    "from sklearn.model_selection import train_test_split\n",
    "import pandas as pd\n",
    "import numpy as np\n",
    "import matplotlib.pyplot as plt\n",
    "from pandas.plotting import register_matplotlib_converters\n",
    "register_matplotlib_converters()\n",
    "import seaborn as sns"
   ]
  },
  {
   "cell_type": "code",
   "execution_count": 3,
   "metadata": {},
   "outputs": [
    {
     "data": {
      "text/html": [
       "<div>\n",
       "<style scoped>\n",
       "    .dataframe tbody tr th:only-of-type {\n",
       "        vertical-align: middle;\n",
       "    }\n",
       "\n",
       "    .dataframe tbody tr th {\n",
       "        vertical-align: top;\n",
       "    }\n",
       "\n",
       "    .dataframe thead th {\n",
       "        text-align: right;\n",
       "    }\n",
       "</style>\n",
       "<table border=\"1\" class=\"dataframe\">\n",
       "  <thead>\n",
       "    <tr style=\"text-align: right;\">\n",
       "      <th></th>\n",
       "      <th>Open</th>\n",
       "      <th>High</th>\n",
       "      <th>Low</th>\n",
       "      <th>Close</th>\n",
       "      <th>Adj.Close</th>\n",
       "      <th>Volume</th>\n",
       "    </tr>\n",
       "    <tr>\n",
       "      <th>Date</th>\n",
       "      <th></th>\n",
       "      <th></th>\n",
       "      <th></th>\n",
       "      <th></th>\n",
       "      <th></th>\n",
       "      <th></th>\n",
       "    </tr>\n",
       "  </thead>\n",
       "  <tbody>\n",
       "    <tr>\n",
       "      <th>2010-11-19</th>\n",
       "      <td>30.160000</td>\n",
       "      <td>31.370001</td>\n",
       "      <td>29.700001</td>\n",
       "      <td>30.990000</td>\n",
       "      <td>30.990000</td>\n",
       "      <td>1150500</td>\n",
       "    </tr>\n",
       "    <tr>\n",
       "      <th>2010-11-22</th>\n",
       "      <td>31.570000</td>\n",
       "      <td>33.450001</td>\n",
       "      <td>31.500000</td>\n",
       "      <td>33.400002</td>\n",
       "      <td>33.400002</td>\n",
       "      <td>1529700</td>\n",
       "    </tr>\n",
       "    <tr>\n",
       "      <th>2010-11-23</th>\n",
       "      <td>33.290001</td>\n",
       "      <td>35.680000</td>\n",
       "      <td>32.189999</td>\n",
       "      <td>34.570000</td>\n",
       "      <td>34.570000</td>\n",
       "      <td>1577800</td>\n",
       "    </tr>\n",
       "    <tr>\n",
       "      <th>2010-11-24</th>\n",
       "      <td>35.270000</td>\n",
       "      <td>35.970001</td>\n",
       "      <td>34.330002</td>\n",
       "      <td>35.470001</td>\n",
       "      <td>35.470001</td>\n",
       "      <td>1425000</td>\n",
       "    </tr>\n",
       "    <tr>\n",
       "      <th>2010-11-26</th>\n",
       "      <td>35.599998</td>\n",
       "      <td>36.000000</td>\n",
       "      <td>34.750000</td>\n",
       "      <td>35.320000</td>\n",
       "      <td>35.320000</td>\n",
       "      <td>350600</td>\n",
       "    </tr>\n",
       "    <tr>\n",
       "      <th>2019-10-02</th>\n",
       "      <td>243.289993</td>\n",
       "      <td>244.649994</td>\n",
       "      <td>239.429993</td>\n",
       "      <td>243.130005</td>\n",
       "      <td>243.130005</td>\n",
       "      <td>5631400</td>\n",
       "    </tr>\n",
       "    <tr>\n",
       "      <th>2019-10-03</th>\n",
       "      <td>231.860001</td>\n",
       "      <td>234.479996</td>\n",
       "      <td>224.279999</td>\n",
       "      <td>233.029999</td>\n",
       "      <td>233.029999</td>\n",
       "      <td>15084500</td>\n",
       "    </tr>\n",
       "    <tr>\n",
       "      <th>2019-10-04</th>\n",
       "      <td>231.610001</td>\n",
       "      <td>234.779999</td>\n",
       "      <td>228.070007</td>\n",
       "      <td>231.429993</td>\n",
       "      <td>231.429993</td>\n",
       "      <td>7995000</td>\n",
       "    </tr>\n",
       "    <tr>\n",
       "      <th>2019-10-07</th>\n",
       "      <td>229.800003</td>\n",
       "      <td>238.559998</td>\n",
       "      <td>228.550003</td>\n",
       "      <td>237.720001</td>\n",
       "      <td>237.720001</td>\n",
       "      <td>8064200</td>\n",
       "    </tr>\n",
       "    <tr>\n",
       "      <th>2019-10-08</th>\n",
       "      <td>235.869995</td>\n",
       "      <td>243.940002</td>\n",
       "      <td>234.500000</td>\n",
       "      <td>240.050003</td>\n",
       "      <td>240.050003</td>\n",
       "      <td>8678200</td>\n",
       "    </tr>\n",
       "  </tbody>\n",
       "</table>\n",
       "</div>"
      ],
      "text/plain": [
       "                  Open        High         Low       Close   Adj.Close  \\\n",
       "Date                                                                     \n",
       "2010-11-19   30.160000   31.370001   29.700001   30.990000   30.990000   \n",
       "2010-11-22   31.570000   33.450001   31.500000   33.400002   33.400002   \n",
       "2010-11-23   33.290001   35.680000   32.189999   34.570000   34.570000   \n",
       "2010-11-24   35.270000   35.970001   34.330002   35.470001   35.470001   \n",
       "2010-11-26   35.599998   36.000000   34.750000   35.320000   35.320000   \n",
       "2019-10-02  243.289993  244.649994  239.429993  243.130005  243.130005   \n",
       "2019-10-03  231.860001  234.479996  224.279999  233.029999  233.029999   \n",
       "2019-10-04  231.610001  234.779999  228.070007  231.429993  231.429993   \n",
       "2019-10-07  229.800003  238.559998  228.550003  237.720001  237.720001   \n",
       "2019-10-08  235.869995  243.940002  234.500000  240.050003  240.050003   \n",
       "\n",
       "              Volume  \n",
       "Date                  \n",
       "2010-11-19   1150500  \n",
       "2010-11-22   1529700  \n",
       "2010-11-23   1577800  \n",
       "2010-11-24   1425000  \n",
       "2010-11-26    350600  \n",
       "2019-10-02   5631400  \n",
       "2019-10-03  15084500  \n",
       "2019-10-04   7995000  \n",
       "2019-10-07   8064200  \n",
       "2019-10-08   8678200  "
      ]
     },
     "execution_count": 3,
     "metadata": {},
     "output_type": "execute_result"
    }
   ],
   "source": [
    "stock = pd.read_csv('Data Tesla 30sebelum.csv')\n",
    "stock = stock.set_index('Date')\n",
    "show = stock.head()\n",
    "show = show.append(stock.tail())\n",
    "show"
   ]
  },
  {
   "cell_type": "code",
   "execution_count": 4,
   "metadata": {
    "scrolled": true
   },
   "outputs": [
    {
     "name": "stdout",
     "output_type": "stream",
     "text": [
      "            Adj.Close\n",
      "Date                 \n",
      "2010-11-19  30.990000\n",
      "2010-11-22  33.400002\n",
      "2010-11-23  34.570000\n",
      "2010-11-24  35.470001\n",
      "2010-11-26  35.320000\n"
     ]
    }
   ],
   "source": [
    "# Get the Adjusted Close Price \n",
    "stock = stock[['Adj.Close']] \n",
    "# Take a look at the new data \n",
    "print(stock.head())"
   ]
  },
  {
   "cell_type": "code",
   "execution_count": 19,
   "metadata": {},
   "outputs": [
    {
     "data": {
      "text/plain": [
       "<matplotlib.axes._subplots.AxesSubplot at 0x2678f55b3c8>"
      ]
     },
     "execution_count": 19,
     "metadata": {},
     "output_type": "execute_result"
    },
    {
     "data": {
      "image/png": "[encoded data removed]",
      "text/plain": [
       "<Figure size 432x288 with 1 Axes>"
      ]
     },
     "metadata": {
      "needs_background": "light"
     },
     "output_type": "display_data"
    }
   ],
   "source": [
    "sns.distplot(stock['Adj.Close'])"
   ]
  },
  {
   "cell_type": "code",
   "execution_count": 5,
   "metadata": {},
   "outputs": [
    {
     "name": "stdout",
     "output_type": "stream",
     "text": [
      "             Adj.Close  Prediction\n",
      "Date                              \n",
      "2019-10-02  243.130005         NaN\n",
      "2019-10-03  233.029999         NaN\n",
      "2019-10-04  231.429993         NaN\n",
      "2019-10-07  237.720001         NaN\n",
      "2019-10-08  240.050003         NaN\n"
     ]
    }
   ],
   "source": [
    "# A variable for predicting 'n' days out into the future\n",
    "forecast_out = 30 #'n=30' days\n",
    "#Create another column (the target ) shifted 'n' units up\n",
    "stock['Prediction'] = stock[['Adj.Close']].shift(-forecast_out)\n",
    "#print the new data set\n",
    "print(stock.tail())"
   ]
  },
  {
   "cell_type": "code",
   "execution_count": 6,
   "metadata": {},
   "outputs": [
    {
     "name": "stdout",
     "output_type": "stream",
     "text": [
      "[[ 30.99    ]\n",
      " [ 33.400002]\n",
      " [ 34.57    ]\n",
      " ...\n",
      " [222.149994]\n",
      " [211.399994]\n",
      " [215.      ]]\n"
     ]
    }
   ],
   "source": [
    "### Create the independent data set (X)  #######\n",
    "# Convert the dataframe to a numpy array\n",
    "X = np.array(stock.drop(['Prediction'],1))\n",
    "\n",
    "#Remove the last '30' rows\n",
    "X = X[:-forecast_out]\n",
    "print(X)"
   ]
  },
  {
   "cell_type": "code",
   "execution_count": 7,
   "metadata": {},
   "outputs": [
    {
     "name": "stdout",
     "output_type": "stream",
     "text": [
      "[ 26.67      26.83      27.879999 ... 231.429993 237.720001 240.050003]\n"
     ]
    }
   ],
   "source": [
    "### Create the dependent data set (y)  #####\n",
    "# Convert the dataframe to a numpy array \n",
    "y = np.array(stock['Prediction'])\n",
    "# Get all of the y values except the last '30' rows\n",
    "y = y[:-forecast_out]\n",
    "print(y)"
   ]
  },
  {
   "cell_type": "code",
   "execution_count": 8,
   "metadata": {},
   "outputs": [],
   "source": [
    "# Split the data into 80% training and 20% testing\n",
    "x_train, x_test, y_train, y_test = train_test_split(X, y, test_size=0.2)"
   ]
  },
  {
   "cell_type": "code",
   "execution_count": 9,
   "metadata": {},
   "outputs": [
    {
     "data": {
      "text/plain": [
       "LinearRegression(copy_X=True, fit_intercept=True, n_jobs=None, normalize=False)"
      ]
     },
     "execution_count": 9,
     "metadata": {},
     "output_type": "execute_result"
    }
   ],
   "source": [
    "# Create and train the Linear Regression  Model\n",
    "lr = LinearRegression()\n",
    "# Train the model\n",
    "lr.fit(x_train, y_train)"
   ]
  },
  {
   "cell_type": "code",
   "execution_count": 10,
   "metadata": {},
   "outputs": [
    {
     "name": "stdout",
     "output_type": "stream",
     "text": [
      "lr confidence:  0.9215349843651329\n"
     ]
    }
   ],
   "source": [
    "# Testing Model: Score returns the coefficient of determination R^2 of the prediction. \n",
    "# The best possible score is 1.0\n",
    "lr_confidence = lr.score(x_test, y_test)\n",
    "print(\"lr confidence: \", lr_confidence)"
   ]
  },
  {
   "cell_type": "code",
   "execution_count": 15,
   "metadata": {},
   "outputs": [
    {
     "name": "stdout",
     "output_type": "stream",
     "text": [
      "[[214.080002]\n",
      " [215.589996]\n",
      " [221.710007]\n",
      " [225.610001]\n",
      " [225.009995]\n",
      " [220.679993]\n",
      " [229.580002]\n",
      " [227.449997]\n",
      " [231.789993]\n",
      " [235.539993]\n",
      " [247.100006]\n",
      " [245.869995]\n",
      " [245.199997]\n",
      " [242.809998]\n",
      " [244.789993]\n",
      " [243.490005]\n",
      " [246.600006]\n",
      " [240.619995]\n",
      " [241.229996]\n",
      " [223.210007]\n",
      " [228.699997]\n",
      " [242.559998]\n",
      " [242.130005]\n",
      " [240.869995]\n",
      " [244.690002]\n",
      " [243.130005]\n",
      " [233.029999]\n",
      " [231.429993]\n",
      " [237.720001]\n",
      " [240.050003]]\n"
     ]
    }
   ],
   "source": [
    "x_forecast = np.array(stock.drop(['Prediction'],1))[-forecast_out:]\n",
    "print(x_forecast)"
   ]
  },
  {
   "cell_type": "code",
   "execution_count": 16,
   "metadata": {},
   "outputs": [
    {
     "name": "stdout",
     "output_type": "stream",
     "text": [
      "[215.24802838 216.68545839 222.51136731 226.22394394 225.65277171\n",
      " 221.53085146 230.00316332 227.97551744 232.10695142 235.67674213\n",
      " 246.68122934 245.51032752 244.87252681 242.59738115 244.48222589\n",
      " 243.24470986 246.20525725 240.51262052 241.09330743 223.93928359\n",
      " 229.16544768 242.3593951  241.95006577 240.75060657 244.38704004\n",
      " 242.90200996 233.28736792 231.76425151 237.75198808 239.97001995]\n"
     ]
    }
   ],
   "source": [
    "# Print linear regression model predictions for the next '30' days\n",
    "lr_prediction = lr.predict(x_forecast)\n",
    "print(lr_prediction)"
   ]
  },
  {
   "cell_type": "code",
   "execution_count": 35,
   "metadata": {},
   "outputs": [
    {
     "data": {
      "image/png": "[encoded data removed]",
      "text/plain": [
       "<Figure size 1440x360 with 1 Axes>"
      ]
     },
     "metadata": {
      "needs_background": "light"
     },
     "output_type": "display_data"
    }
   ],
   "source": [
    "\n",
    "plt.figure(figsize = (20, 5))\n",
    "plt.plot(lr_prediction, label='Prediksi')\n",
    "plt.plot(x_forecast, label='Actual')\n",
    "plt.show()\n"
   ]
  },
  {
   "cell_type": "code",
   "execution_count": null,
   "metadata": {},
   "outputs": [],
   "source": []
  }
 ],
 "metadata": {
  "kernelspec": {
   "display_name": "Python 3",
   "language": "python",
   "name": "python3"
  },
  "language_info": {
   "codemirror_mode": {
    "name": "ipython",
    "version": 3
   },
   "file_extension": ".py",
   "mimetype": "text/x-python",
   "name": "python",
   "nbconvert_exporter": "python",
   "pygments_lexer": "ipython3",
   "version": "3.7.3"
  }
 },
 "nbformat": 4,
 "nbformat_minor": 2
}
